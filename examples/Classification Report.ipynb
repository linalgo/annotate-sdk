{
 "cells": [
  {
   "cell_type": "markdown",
   "metadata": {},
   "source": [
    "# Linalgo Annotate SDK demo"
   ]
  },
  {
   "cell_type": "code",
   "execution_count": 5,
   "metadata": {
    "scrolled": true
   },
   "outputs": [
    {
     "name": "stdout",
     "output_type": "stream",
     "text": [
      "The autoreload extension is already loaded. To reload it, use:\n",
      "  %reload_ext autoreload\n",
      "Populating the interactive namespace from numpy and matplotlib\n"
     ]
    }
   ],
   "source": [
    "%load_ext autoreload\n",
    "%autoreload 2\n",
    "%pylab inline"
   ]
  },
  {
   "cell_type": "markdown",
   "metadata": {},
   "source": [
    "## Setting up the environment"
   ]
  },
  {
   "cell_type": "markdown",
   "metadata": {},
   "source": [
    "First we need to import the `linalgo` library to manipulate the tasks created online. The installation is described [here](https://linalgo.github.io/annotate-sdk/)."
   ]
  },
  {
   "cell_type": "code",
   "execution_count": 6,
   "metadata": {},
   "outputs": [],
   "source": [
    "import os \n",
    "from linalgo.client import LinalgoClient"
   ]
  },
  {
   "cell_type": "markdown",
   "metadata": {},
   "source": [
    "Then let's connect to the backend. \n",
    "- We need to know the address of you annotate instance (localhost in this case)\n",
    "- To get the authentication token, we must connect to the platform and retrieve it from the developper dashboard"
   ]
  },
  {
   "cell_type": "code",
   "execution_count": 7,
   "metadata": {},
   "outputs": [],
   "source": [
    "token = os.getenv('LIN_TOKEN')\n",
    "api_url = 'http://localhost:8000'\n",
    "linalgo_client = LinalgoClient(token=token, api_url=api_url)"
   ]
  },
  {
   "cell_type": "markdown",
   "metadata": {},
   "source": [
    "We are now ready to list the tasks to which we have access and select the ones we would like to work on."
   ]
  },
  {
   "cell_type": "code",
   "execution_count": 8,
   "metadata": {},
   "outputs": [
    {
     "name": "stdout",
     "output_type": "stream",
     "text": [
      "id: 22, name: WRT3 Text 3 Class 3R2 (all)\n"
     ]
    }
   ],
   "source": [
    "tasks = linalgo_client.get_tasks([22])\n",
    "for task in tasks:\n",
    "    print(f\"id: {task.id}, name: {task.name}\")"
   ]
  },
  {
   "cell_type": "markdown",
   "metadata": {},
   "source": [
    "## Training a machine learning algorithm"
   ]
  },
  {
   "cell_type": "markdown",
   "metadata": {},
   "source": [
    "Let's look at the different types of annotations that have been made on the tasks we selected."
   ]
  },
  {
   "cell_type": "code",
   "execution_count": 9,
   "metadata": {},
   "outputs": [
    {
     "name": "stdout",
     "output_type": "stream",
     "text": [
      "id: 4, name: CT Ideate\n",
      "id: 5, name: CT Justify\n",
      "id: 6, name: CT Validate\n",
      "id: 7, name: CT Challenge\n",
      "id: 8, name: CT Clarify\n",
      "id: 9, name: CT Synthesis\n",
      "id: 10, name: CT Elaboration\n"
     ]
    }
   ],
   "source": [
    "entities = task.entities\n",
    "for entity in entities:\n",
    "    print(f\"id: {entity['id']}, name: {entity['title']}\")"
   ]
  },
  {
   "cell_type": "markdown",
   "metadata": {},
   "source": [
    "In this study, we're going to train one algorithm per entity type (binary classification). We'll start with the `CT Ideate` type (id 4) and filter the dataset for these annotations only using the `task_transform()` function. "
   ]
  },
  {
   "cell_type": "code",
   "execution_count": 10,
   "metadata": {
    "collapsed": true
   },
   "outputs": [],
   "source": [
    "entity = entities[0]\n",
    "label = entity['id']\n",
    "data, target = [], []\n",
    "for task in tasks:\n",
    "    docs, labels = task.transform(target='binary',  label=label)\n",
    "    data.extend(docs)\n",
    "    target.extend(labels)"
   ]
  },
  {
   "cell_type": "code",
   "execution_count": 11,
   "metadata": {
    "scrolled": true
   },
   "outputs": [
    {
     "name": "stdout",
     "output_type": "stream",
     "text": [
      "entity: CT Ideate\n",
      "number of docs: 107\n",
      "----------------------------\n",
      "1: 'data': Being filial in Asian communities is being welcome to their parents instead of rejecting them, 'label': 1\n",
      "2: 'data': That is a very weak and inaccurate way of stating what is filial piety.It might not even be about accepting your parents.It can be about other things like appreciating famliy traditions and cultures.Just saying that there is only one way of saying what is fillial piety is quite close minded in my opinion. Sincerely, Collin., 'label': 1\n",
      "3: 'data': What do you mean by 'rejecting them'?, 'label': 0\n",
      "...\n"
     ]
    }
   ],
   "source": [
    "print(f\"entity: {entity['title']}\")\n",
    "print(f\"number of docs: {len(data)}\")\n",
    "print('----------------------------')\n",
    "print(f\"1: 'data': {data[0]}, 'label': {target[0]}\")\n",
    "print(f\"2: 'data': {data[1]}, 'label': {target[1]}\")\n",
    "print(f\"3: 'data': {data[2]}, 'label': {target[2]}\")\n",
    "print('...')"
   ]
  },
  {
   "cell_type": "markdown",
   "metadata": {},
   "source": [
    "We have 1220 documents and their associated labels for training. We can now use our favorite classifier from scikit-learn and fit it to our data."
   ]
  },
  {
   "cell_type": "code",
   "execution_count": 12,
   "metadata": {
    "collapsed": true
   },
   "outputs": [],
   "source": [
    "from sklearn.feature_extraction.text import CountVectorizer, TfidfTransformer\n",
    "from sklearn.linear_model import LogisticRegression\n",
    "from sklearn.model_selection import train_test_split\n",
    "from sklearn.pipeline import Pipeline"
   ]
  },
  {
   "cell_type": "code",
   "execution_count": 13,
   "metadata": {},
   "outputs": [
    {
     "name": "stderr",
     "output_type": "stream",
     "text": [
      "/Users/arnaud/anaconda/envs/python3.6/lib/python3.6/site-packages/sklearn/linear_model/logistic.py:432: FutureWarning: Default solver will be changed to 'lbfgs' in 0.22. Specify a solver to silence this warning.\n",
      "  FutureWarning)\n"
     ]
    }
   ],
   "source": [
    "X_train, X_test, y_train, y_test = train_test_split(data, target, test_size=0.33, random_state=43)\n",
    "\n",
    "text_clf = Pipeline([\n",
    "    ('vect', CountVectorizer()),\n",
    "    ('tfidf', TfidfTransformer()),\n",
    "    ('clf', LogisticRegression()),\n",
    "])\n",
    "\n",
    "text_clf.fit(X_train, y_train)\n",
    "y_score = text_clf.decision_function(X_test)"
   ]
  },
  {
   "cell_type": "markdown",
   "metadata": {},
   "source": [
    "## Evaluating the model"
   ]
  },
  {
   "cell_type": "markdown",
   "metadata": {},
   "source": [
    "Now that we have a trained algorithm, we would like to know what kind of performance it has on our current dataset. We'll use the [AuROC](http://gim.unmc.edu/dxtests/roc3.htm) metric for that. [Other metrics](http://scikit-learn.org/stable/modules/classes.html#module-sklearn.metrics) might alos be appropriate depending on the type of task that we're automating. "
   ]
  },
  {
   "cell_type": "code",
   "execution_count": 14,
   "metadata": {
    "collapsed": true
   },
   "outputs": [],
   "source": [
    "from sklearn.metrics import roc_curve, auc"
   ]
  },
  {
   "cell_type": "code",
   "execution_count": 15,
   "metadata": {
    "collapsed": true
   },
   "outputs": [],
   "source": [
    "fpr, tpr, thres = roc_curve(y_test, y_score)\n",
    "roc_auc = auc(fpr, tpr)"
   ]
  },
  {
   "cell_type": "code",
   "execution_count": 16,
   "metadata": {},
   "outputs": [
    {
     "data": {
      "image/png": "[encoded data removed]",
      "text/plain": [
       "<matplotlib.figure.Figure at 0x1a1cf550b8>"
      ]
     },
     "metadata": {},
     "output_type": "display_data"
    }
   ],
   "source": [
    "plt.figure(figsize=(10, 5))\n",
    "plt.plot(fpr, tpr, color='darkorange',\n",
    "         lw=2, label='ROC curve (area = %0.2f)' % roc_auc)\n",
    "plt.plot([0, 1], [0, 1], color='navy', lw=2, linestyle='--')\n",
    "plt.xlim([0.0, 1.0])\n",
    "plt.ylim([0.0, 1.05])\n",
    "plt.xlabel('False Positive Rate')\n",
    "plt.ylabel('True Positive Rate')\n",
    "plt.title(f\"Receiver operating characteristic for {entity['title']}\")\n",
    "plt.legend(loc=\"lower right\")\n",
    "plt.show()"
   ]
  },
  {
   "cell_type": "markdown",
   "metadata": {},
   "source": [
    "## Automating the annotation process"
   ]
  },
  {
   "cell_type": "markdown",
   "metadata": {},
   "source": [
    "Now that we have a model with good performance (~.93 AuROC) we can use it to mimick the behaviour of a human annotator. To do so, we'll instanciate the `Annotator` class and call it `Rob v1`, a name to remenber that this is our first model."
   ]
  },
  {
   "cell_type": "code",
   "execution_count": 17,
   "metadata": {
    "collapsed": true
   },
   "outputs": [],
   "source": [
    "from linalgo.annotate import Annotator"
   ]
  },
  {
   "cell_type": "code",
   "execution_count": 23,
   "metadata": {},
   "outputs": [],
   "source": [
    "annotator = Annotator(name='test_bot', model=text_clf, annotation_type_id=label, threshold=0)"
   ]
  },
  {
   "cell_type": "code",
   "execution_count": 50,
   "metadata": {},
   "outputs": [
    {
     "ename": "AttributeError",
     "evalue": "'dict' object has no attribute 'annotator_id'",
     "output_type": "error",
     "traceback": [
      "\u001b[0;31m---------------------------------------------------------------------------\u001b[0m",
      "\u001b[0;31mAttributeError\u001b[0m                            Traceback (most recent call last)",
      "\u001b[0;32m<ipython-input-50-a8f5491612e9>\u001b[0m in \u001b[0;36m<module>\u001b[0;34m()\u001b[0m\n\u001b[0;32m----> 1\u001b[0;31m \u001b[0mannotator\u001b[0m \u001b[0;34m=\u001b[0m \u001b[0mlinalgo_client\u001b[0m\u001b[0;34m.\u001b[0m\u001b[0mcreate_annotator\u001b[0m\u001b[0;34m(\u001b[0m\u001b[0mannotator\u001b[0m\u001b[0;34m=\u001b[0m\u001b[0;34m{\u001b[0m\u001b[0;34m'name'\u001b[0m\u001b[0;34m:\u001b[0m \u001b[0mannotator\u001b[0m\u001b[0;34m.\u001b[0m\u001b[0mname\u001b[0m\u001b[0;34m,\u001b[0m \u001b[0;34m'model'\u001b[0m\u001b[0;34m:\u001b[0m \u001b[0mstr\u001b[0m\u001b[0;34m(\u001b[0m\u001b[0mtext_clf\u001b[0m\u001b[0;34m)\u001b[0m\u001b[0;34m}\u001b[0m\u001b[0;34m)\u001b[0m\u001b[0;34m\u001b[0m\u001b[0m\n\u001b[0m",
      "\u001b[0;32m/Users/arnaud/workspaces/linalgo/annotate-sdk/linalgo/client.py\u001b[0m in \u001b[0;36mcreate_annotator\u001b[0;34m(self, annotator)\u001b[0m\n\u001b[1;32m    130\u001b[0m \u001b[0;34m\u001b[0m\u001b[0m\n\u001b[1;32m    131\u001b[0m     \u001b[0;32mdef\u001b[0m \u001b[0mcreate_annotator\u001b[0m\u001b[0;34m(\u001b[0m\u001b[0mself\u001b[0m\u001b[0;34m,\u001b[0m \u001b[0mannotator\u001b[0m\u001b[0;34m)\u001b[0m\u001b[0;34m:\u001b[0m\u001b[0;34m\u001b[0m\u001b[0m\n\u001b[0;32m--> 132\u001b[0;31m         \u001b[0;32mif\u001b[0m \u001b[0mannotator\u001b[0m\u001b[0;34m.\u001b[0m\u001b[0mannotator_id\u001b[0m \u001b[0;32mis\u001b[0m \u001b[0;32mnot\u001b[0m \u001b[0;32mNone\u001b[0m\u001b[0;34m:\u001b[0m\u001b[0;34m\u001b[0m\u001b[0m\n\u001b[0m\u001b[1;32m    133\u001b[0m             \u001b[0;32mraise\u001b[0m \u001b[0mException\u001b[0m\u001b[0;34m(\u001b[0m\u001b[0;34m\"Annotator already has an ID.\"\u001b[0m\u001b[0;34m)\u001b[0m\u001b[0;34m\u001b[0m\u001b[0m\n\u001b[1;32m    134\u001b[0m         \u001b[0mannotator_url\u001b[0m \u001b[0;34m=\u001b[0m \u001b[0;34mf\"/annotators/\"\u001b[0m\u001b[0;34m\u001b[0m\u001b[0m\n",
      "\u001b[0;31mAttributeError\u001b[0m: 'dict' object has no attribute 'annotator_id'"
     ]
    }
   ],
   "source": [
    "annotator = linalgo_client.create_annotator(annotator={'name': annotator.name, 'model': str(text_clf)})"
   ]
  },
  {
   "cell_type": "code",
   "execution_count": 51,
   "metadata": {},
   "outputs": [
    {
     "data": {
      "text/plain": [
       "<linalgo.annotate.Annotator at 0x1a1d43e588>"
      ]
     },
     "execution_count": 51,
     "metadata": {},
     "output_type": "execute_result"
    }
   ],
   "source": [
    "annotator"
   ]
  },
  {
   "cell_type": "markdown",
   "metadata": {},
   "source": [
    "We're going to use task 46 to test Rob v1."
   ]
  },
  {
   "cell_type": "code",
   "execution_count": 52,
   "metadata": {},
   "outputs": [
    {
     "name": "stdout",
     "output_type": "stream",
     "text": [
      "id: 46\n",
      "name: Rob v1 - Review\n",
      "description: Automated annotator (rob v1) review\n",
      "# documents: 2064\n",
      "# annotations: 0\n"
     ]
    }
   ],
   "source": [
    "task = linalgo_client.get_task(46)\n",
    "annotator.assign_task(task)\n",
    "print(task)"
   ]
  },
  {
   "cell_type": "markdown",
   "metadata": {},
   "source": [
    "Finally, let's use `Rob v1` to annotate all the documents in that task."
   ]
  },
  {
   "cell_type": "code",
   "execution_count": 71,
   "metadata": {},
   "outputs": [],
   "source": [
    "annotations, r = [], []\n",
    "for doc in task.documents:\n",
    "    annotation = annotator.annotate(doc)\n",
    "    annotations.append(annotation)\n",
    "    # Here we save the documents and annotations for quick local visualization\n",
    "    if annotation.type_id != -1:\n",
    "        l = \"YES\"\n",
    "    else:\n",
    "        l = \"NO\"\n",
    "    r.append({'doc': doc.content, f\"{entity['title']}\": l, 'score': annotation.score})"
   ]
  },
  {
   "cell_type": "code",
   "execution_count": 72,
   "metadata": {},
   "outputs": [
    {
     "data": {
      "text/plain": [
       "{'annotator': 27,\n",
       " 'data': {'created': '',\n",
       "  'display_options': {},\n",
       "  'group': 46,\n",
       "  'id': 1,\n",
       "  'permissions': {'delete': ['acct:None@linalgo'],\n",
       "   'read': ['acct:None@linalgo'],\n",
       "   'update': ['acct:None@linalgo']},\n",
       "  'tags': [],\n",
       "  'target': [{'selector': [], 'source': '/tasks/46/annotate/8237'}],\n",
       "  'text': '',\n",
       "  'type_action': 'default',\n",
       "  'type_flashcard_type': 'default',\n",
       "  'type_id': 4,\n",
       "  'type_name': 'UNKNOWN',\n",
       "  'uri': '/tasks/46/annotate/8237',\n",
       "  'user': 'acct:None@linalgo'},\n",
       " 'document': 8237,\n",
       " 'group': 46,\n",
       " 'score': 0.9577744941882345,\n",
       " 'text': 'The main idea being conveyed is that transport plays a huge factor on how the future will turn out. It is a good point that promoting cycling and walking is a better option as vehicles such as car and buses bring about many disadvantages while walking and cycling do not have such a bad impact on the world and the people.',\n",
       " 'type': 4,\n",
       " 'uri': '/tasks/46/annotate/8237'}"
      ]
     },
     "execution_count": 72,
     "metadata": {},
     "output_type": "execute_result"
    }
   ],
   "source": [
    "annotation.to_json()"
   ]
  },
  {
   "cell_type": "markdown",
   "metadata": {},
   "source": [
    "Let's visualize the newly annotated documents."
   ]
  },
  {
   "cell_type": "code",
   "execution_count": 73,
   "metadata": {},
   "outputs": [
    {
     "data": {
      "text/html": [
       "<div>\n",
       "<style scoped>\n",
       "    .dataframe tbody tr th:only-of-type {\n",
       "        vertical-align: middle;\n",
       "    }\n",
       "\n",
       "    .dataframe tbody tr th {\n",
       "        vertical-align: top;\n",
       "    }\n",
       "\n",
       "    .dataframe thead th {\n",
       "        text-align: right;\n",
       "    }\n",
       "</style>\n",
       "<table border=\"1\" class=\"dataframe\">\n",
       "  <thead>\n",
       "    <tr style=\"text-align: right;\">\n",
       "      <th></th>\n",
       "      <th>doc</th>\n",
       "      <th>score</th>\n",
       "      <th>CT Ideate</th>\n",
       "    </tr>\n",
       "  </thead>\n",
       "  <tbody>\n",
       "    <tr>\n",
       "      <th>0</th>\n",
       "      <td>The text is about the future of transport in the 21st century and the five opportunities that can leverage transport so that it delivers more inclusive and prosperous cities.\\r\\n\\r\\nAccording to the paragraph, the five opportunities are safety, mid-size cities, regional and local leadership, finance, and technology. These five opportunities  will ultimately shape the future of transport in the 21st century.\\r\\n\\r\\ni concur with the author.</td>\n",
       "      <td>1.053829</td>\n",
       "      <td>YES</td>\n",
       "    </tr>\n",
       "    <tr>\n",
       "      <th>1</th>\n",
       "      <td>The message of the article is to spread awareness of road safety in our cities, greater focus on mid-size cities and make use of data and technology.</td>\n",
       "      <td>0.913531</td>\n",
       "      <td>YES</td>\n",
       "    </tr>\n",
       "    <tr>\n",
       "      <th>2</th>\n",
       "      <td>The author is trying to tell us that with urbanisation, the big cities are just getting bigger, and the small cities are just getting smaller and poorer without the development of finance and national attention, which are all going to the big cities.</td>\n",
       "      <td>1.150839</td>\n",
       "      <td>YES</td>\n",
       "    </tr>\n",
       "    <tr>\n",
       "      <th>3</th>\n",
       "      <td>I think that the message of the text is trying to tell us that transport is a very important factor in the future, where there are cities expected to have 5.2 billion people.</td>\n",
       "      <td>0.948576</td>\n",
       "      <td>YES</td>\n",
       "    </tr>\n",
       "    <tr>\n",
       "      <th>4</th>\n",
       "      <td>This is because in a future where cities can have such a huge amount of people, it is important to have a working and efficient transport system, and some ways the author suggested to improve the transport system is through road safety, mid-sized cities, regional and local governments, finance, and data and technology.</td>\n",
       "      <td>1.046193</td>\n",
       "      <td>YES</td>\n",
       "    </tr>\n",
       "    <tr>\n",
       "      <th>5</th>\n",
       "      <td>Who do you think the audience is?  Validate your thoughts.</td>\n",
       "      <td>-0.324073</td>\n",
       "      <td>YES</td>\n",
       "    </tr>\n",
       "    <tr>\n",
       "      <th>6</th>\n",
       "      <td>The text is about the transportation of the 21st century, road safety is something that is important and something that we always overlook.Mid-size cities, regional and local leadership, finance, and technology are also importnt opportunites that can leverage transport.These are things that we can all develop on and there are three main enablers that will help cities realize their full potential; Governance, finace and data and technology.</td>\n",
       "      <td>0.885258</td>\n",
       "      <td>YES</td>\n",
       "    </tr>\n",
       "  </tbody>\n",
       "</table>\n",
       "</div>"
      ],
      "text/plain": [
       "                                                                                                                                                                                                                                                                                                                                                                                                                                                           doc  \\\n",
       "0  The text is about the future of transport in the 21st century and the five opportunities that can leverage transport so that it delivers more inclusive and prosperous cities.\\r\\n\\r\\nAccording to the paragraph, the five opportunities are safety, mid-size cities, regional and local leadership, finance, and technology. These five opportunities  will ultimately shape the future of transport in the 21st century.\\r\\n\\r\\ni concur with the author.   \n",
       "1  The message of the article is to spread awareness of road safety in our cities, greater focus on mid-size cities and make use of data and technology.                                                                                                                                                                                                                                                                                                         \n",
       "2  The author is trying to tell us that with urbanisation, the big cities are just getting bigger, and the small cities are just getting smaller and poorer without the development of finance and national attention, which are all going to the big cities.                                                                                                                                                                                                    \n",
       "3  I think that the message of the text is trying to tell us that transport is a very important factor in the future, where there are cities expected to have 5.2 billion people.                                                                                                                                                                                                                                                                                \n",
       "4  This is because in a future where cities can have such a huge amount of people, it is important to have a working and efficient transport system, and some ways the author suggested to improve the transport system is through road safety, mid-sized cities, regional and local governments, finance, and data and technology.                                                                                                                              \n",
       "5  Who do you think the audience is?  Validate your thoughts.                                                                                                                                                                                                                                                                                                                                                                                                    \n",
       "6  The text is about the transportation of the 21st century, road safety is something that is important and something that we always overlook.Mid-size cities, regional and local leadership, finance, and technology are also importnt opportunites that can leverage transport.These are things that we can all develop on and there are three main enablers that will help cities realize their full potential; Governance, finace and data and technology.   \n",
       "\n",
       "      score CT Ideate  \n",
       "0  1.053829  YES       \n",
       "1  0.913531  YES       \n",
       "2  1.150839  YES       \n",
       "3  0.948576  YES       \n",
       "4  1.046193  YES       \n",
       "5 -0.324073  YES       \n",
       "6  0.885258  YES       "
      ]
     },
     "execution_count": 73,
     "metadata": {},
     "output_type": "execute_result"
    }
   ],
   "source": [
    "import pandas as pd\n",
    "pd.set_option('display.max_colwidth', -1)\n",
    "d = pd.DataFrame(r)\n",
    "d.loc[:6, ['doc', 'score', f\"{entity['title']}\"]]"
   ]
  },
  {
   "cell_type": "markdown",
   "metadata": {},
   "source": [
    "If we want to, we can upload the annotations to the LinHub website."
   ]
  },
  {
   "cell_type": "code",
   "execution_count": 78,
   "metadata": {
    "scrolled": true
   },
   "outputs": [
    {
     "data": {
      "text/plain": [
       "<Response [201]>"
      ]
     },
     "execution_count": 78,
     "metadata": {},
     "output_type": "execute_result"
    }
   ],
   "source": [
    "linalgo_client.create_annotations([anno.to_json() for anno in annotations][:10])"
   ]
  },
  {
   "cell_type": "code",
   "execution_count": 75,
   "metadata": {},
   "outputs": [
    {
     "data": {
      "text/plain": [
       "[{'annotator': 27,\n",
       "  'data': {'created': '',\n",
       "   'display_options': {},\n",
       "   'group': 46,\n",
       "   'id': 1,\n",
       "   'permissions': {'delete': ['acct:None@linalgo'],\n",
       "    'read': ['acct:None@linalgo'],\n",
       "    'update': ['acct:None@linalgo']},\n",
       "   'tags': [],\n",
       "   'target': [{'selector': [], 'source': '/tasks/46/annotate/6178'}],\n",
       "   'text': '',\n",
       "   'type_action': 'default',\n",
       "   'type_flashcard_type': 'default',\n",
       "   'type_id': 4,\n",
       "   'type_name': 'UNKNOWN',\n",
       "   'uri': '/tasks/46/annotate/6178',\n",
       "   'user': 'acct:None@linalgo'},\n",
       "  'document': 6178,\n",
       "  'group': 46,\n",
       "  'score': 1.0461931429916103,\n",
       "  'text': 'This is because in a future where cities can have such a huge amount of people, it is important to have a working and efficient transport system, and some ways the author suggested to improve the transport system is through road safety, mid-sized cities, regional and local governments, finance, and data and technology.',\n",
       "  'type': 4,\n",
       "  'uri': '/tasks/46/annotate/6178'},\n",
       " {'annotator': 27,\n",
       "  'data': {'created': '',\n",
       "   'display_options': {},\n",
       "   'group': 46,\n",
       "   'id': 1,\n",
       "   'permissions': {'delete': ['acct:None@linalgo'],\n",
       "    'read': ['acct:None@linalgo'],\n",
       "    'update': ['acct:None@linalgo']},\n",
       "   'tags': [],\n",
       "   'target': [{'selector': [], 'source': '/tasks/46/annotate/6179'}],\n",
       "   'text': '',\n",
       "   'type_action': 'default',\n",
       "   'type_flashcard_type': 'default',\n",
       "   'type_id': 1,\n",
       "   'type_name': 'UNKNOWN',\n",
       "   'uri': '/tasks/46/annotate/6179',\n",
       "   'user': 'acct:None@linalgo'},\n",
       "  'document': 6179,\n",
       "  'group': 46,\n",
       "  'score': -0.32407330612649643,\n",
       "  'text': 'Who do you think the audience is?  Validate your thoughts.',\n",
       "  'type': 1,\n",
       "  'uri': '/tasks/46/annotate/6179'}]"
      ]
     },
     "execution_count": 75,
     "metadata": {},
     "output_type": "execute_result"
    }
   ],
   "source": [
    "[anno.to_json() for anno in annotations][4:6]"
   ]
  },
  {
   "cell_type": "markdown",
   "metadata": {},
   "source": [
    "For now we just save the results locally."
   ]
  },
  {
   "cell_type": "code",
   "execution_count": null,
   "metadata": {
    "collapsed": true
   },
   "outputs": [],
   "source": [
    "d[['doc', 'score', f\"{entity['title']}\"]].to_csv(f\"{entity['title']}.csv\")"
   ]
  },
  {
   "cell_type": "markdown",
   "metadata": {},
   "source": [
    "## Understanding our models mistakes"
   ]
  },
  {
   "cell_type": "markdown",
   "metadata": {
    "collapsed": true
   },
   "source": [
    "Our model is pretty good, but not perfect. We're laways interested in making it better. To that end, it is usually quite informative to look at documents that have been incorrectly annoated by `Rob v1`."
   ]
  },
  {
   "cell_type": "code",
   "execution_count": null,
   "metadata": {
    "collapsed": true
   },
   "outputs": [],
   "source": [
    "#TODO: DEMO how to compare manual and Rob's annotations."
   ]
  },
  {
   "cell_type": "code",
   "execution_count": null,
   "metadata": {
    "collapsed": true
   },
   "outputs": [],
   "source": []
  }
 ],
 "metadata": {
  "kernelspec": {
   "display_name": "Python 3",
   "language": "python",
   "name": "python3"
  },
  "language_info": {
   "codemirror_mode": {
    "name": "ipython",
    "version": 3
   },
   "file_extension": ".py",
   "mimetype": "text/x-python",
   "name": "python",
   "nbconvert_exporter": "python",
   "pygments_lexer": "ipython3",
   "version": "3.6.1"
  }
 },
 "nbformat": 4,
 "nbformat_minor": 2
}
