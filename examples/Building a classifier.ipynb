{
 "cells": [
  {
   "cell_type": "markdown",
   "metadata": {},
   "source": [
    "# Building a classifier from annotated data"
   ]
  },
  {
   "cell_type": "code",
   "execution_count": 1,
   "metadata": {
    "scrolled": true
   },
   "outputs": [
    {
     "name": "stdout",
     "output_type": "stream",
     "text": [
      "Populating the interactive namespace from numpy and matplotlib\n"
     ]
    }
   ],
   "source": [
    "%load_ext autoreload\n",
    "%autoreload 2\n",
    "%pylab inline"
   ]
  },
  {
   "cell_type": "markdown",
   "metadata": {},
   "source": [
    "## Setting up the environment"
   ]
  },
  {
   "cell_type": "markdown",
   "metadata": {},
   "source": [
    "First we need to import the `linalgo` library to manipulate the tasks created online. The installation is described [here](https://linalgo.github.io/annotate-sdk/)."
   ]
  },
  {
   "cell_type": "code",
   "execution_count": 2,
   "metadata": {},
   "outputs": [],
   "source": [
    "import os \n",
    "from linalgo.client import LinalgoClient"
   ]
  },
  {
   "cell_type": "markdown",
   "metadata": {},
   "source": [
    "Then let's connect to the backend. \n",
    "- We need to know the address of you annotate instance (localhost in this case)\n",
    "- To get the authentication token, we must connect to the platform and retrieve it from the developper dashboard"
   ]
  },
  {
   "cell_type": "code",
   "execution_count": 3,
   "metadata": {},
   "outputs": [],
   "source": [
    "token = os.getenv('LINHUB_TOKEN')\n",
    "api_url = 'https://api.linalgo.com/hub'\n",
    "linalgo_client = LinalgoClient(token=token, api_url=api_url)"
   ]
  },
  {
   "cell_type": "markdown",
   "metadata": {},
   "source": [
    "We are now ready to list the tasks to which we have access and select the ones we would like to work on."
   ]
  },
  {
   "cell_type": "code",
   "execution_count": 4,
   "metadata": {},
   "outputs": [
    {
     "name": "stdout",
     "output_type": "stream",
     "text": [
      "id: c91e77a8-85f0-4cd3-98e9-b9f2df62f36c\n",
      "name: wiread\n",
      "description: \n",
      "# documents: 6478\n",
      "# annotations: 7879\n"
     ]
    }
   ],
   "source": [
    "task = linalgo_client.get_task('c91e77a8-85f0-4cd3-98e9-b9f2df62f36c')\n",
    "print(task)"
   ]
  },
  {
   "cell_type": "markdown",
   "metadata": {},
   "source": [
    "## Training a machine learning algorithm"
   ]
  },
  {
   "cell_type": "markdown",
   "metadata": {},
   "source": [
    "Let's look at the different types of annotations that have been made on the tasks we selected."
   ]
  },
  {
   "cell_type": "code",
   "execution_count": 5,
   "metadata": {},
   "outputs": [
    {
     "name": "stdout",
     "output_type": "stream",
     "text": [
      "id: 1a143168-56fb-11e9-863d-6c4008898238, name: CT Ideate\n",
      "id: 1a143514-56fb-11e9-ad3c-6c4008898238, name: CT Justify\n",
      "id: 1a1437f8-56fb-11e9-af9a-6c4008898238, name: CT Validate\n",
      "id: 1a143ab4-56fb-11e9-9dd9-6c4008898238, name: CT Challenge\n",
      "id: 1a143d5c-56fb-11e9-8154-6c4008898238, name: CT Clarify\n",
      "id: 1a144006-56fb-11e9-9dfe-6c4008898238, name: CT Synthesis\n",
      "id: 1a1442a2-56fb-11e9-a18c-6c4008898238, name: CT Elaboration\n"
     ]
    }
   ],
   "source": [
    "entities = task.entities\n",
    "for entity in entities:\n",
    "    print(f\"id: {entity['id']}, name: {entity['title']}\")"
   ]
  },
  {
   "cell_type": "markdown",
   "metadata": {},
   "source": [
    "In this study, we're going to train one algorithm per entity type (binary classification). We'll start with the `CT Ideate` type (id 4) and filter the dataset for these annotations only using the `task_transform()` function. "
   ]
  },
  {
   "cell_type": "code",
   "execution_count": 7,
   "metadata": {},
   "outputs": [],
   "source": [
    "entity = entities[0]\n",
    "label = entity['id']\n",
    "data, target = [], []\n",
    "docs, labels = task.transform(target='binary',  label=label)\n",
    "data.extend(docs)\n",
    "target.extend(labels)"
   ]
  },
  {
   "cell_type": "code",
   "execution_count": 8,
   "metadata": {
    "scrolled": true
   },
   "outputs": [
    {
     "name": "stdout",
     "output_type": "stream",
     "text": [
      "entity: CT Ideate\n",
      "number of docs: 1199\n",
      "----------------------------\n",
      "1: 'comment': Being filial in Asian communities is being welcome to their parents instead of rejecting them, 'CT label': 1\n",
      "2: 'comment': That is a very weak and inaccurate way of stating what is filial piety.It might not even be about accepting your parents.It can be about other things like appreciating famliy traditions and cultures.Just saying that there is only one way of saying what is fillial piety is quite close minded in my opinion. Sincerely, Collin., 'CT label': 1\n",
      "3: 'comment': What do you mean by 'rejecting them'?, 'CT label': 0\n",
      "...\n"
     ]
    }
   ],
   "source": [
    "print(f\"entity: {entity['title']}\")\n",
    "print(f\"number of docs: {len(data)}\")\n",
    "print('----------------------------')\n",
    "print(f\"1: 'comment': {data[0]}, 'CT label': {target[0]}\")\n",
    "print(f\"2: 'comment': {data[1]}, 'CT label': {target[1]}\")\n",
    "print(f\"3: 'comment': {data[2]}, 'CT label': {target[2]}\")\n",
    "print('...')"
   ]
  },
  {
   "cell_type": "markdown",
   "metadata": {},
   "source": [
    "We have 1220 documents and their associated labels for training. We can now use our favorite classifier from scikit-learn and fit it to our data."
   ]
  },
  {
   "cell_type": "code",
   "execution_count": 9,
   "metadata": {},
   "outputs": [],
   "source": [
    "from sklearn.feature_extraction.text import CountVectorizer, TfidfTransformer\n",
    "from sklearn.linear_model import LogisticRegression\n",
    "from sklearn.model_selection import train_test_split\n",
    "from sklearn.pipeline import Pipeline"
   ]
  },
  {
   "cell_type": "code",
   "execution_count": 10,
   "metadata": {},
   "outputs": [
    {
     "name": "stderr",
     "output_type": "stream",
     "text": [
      "/Users/arnaud/anaconda3/lib/python3.7/site-packages/sklearn/linear_model/logistic.py:433: FutureWarning: Default solver will be changed to 'lbfgs' in 0.22. Specify a solver to silence this warning.\n",
      "  FutureWarning)\n"
     ]
    }
   ],
   "source": [
    "X_train, X_test, y_train, y_test = train_test_split(data, target, test_size=0.33, random_state=43)\n",
    "\n",
    "text_clf = Pipeline([\n",
    "    ('vect', CountVectorizer()),\n",
    "    ('tfidf', TfidfTransformer()),\n",
    "    ('clf', LogisticRegression()),\n",
    "])\n",
    "\n",
    "text_clf.fit(X_train, y_train)\n",
    "y_score = text_clf.decision_function(X_test)"
   ]
  },
  {
   "cell_type": "markdown",
   "metadata": {},
   "source": [
    "## Evaluating the model"
   ]
  },
  {
   "cell_type": "markdown",
   "metadata": {},
   "source": [
    "Now that we have a trained algorithm, we would like to know what kind of performance it has on our current dataset. We'll use the [AuROC](http://gim.unmc.edu/dxtests/roc3.htm) metric for that. [Other metrics](http://scikit-learn.org/stable/modules/classes.html#module-sklearn.metrics) might alos be appropriate depending on the type of task that we're automating. "
   ]
  },
  {
   "cell_type": "code",
   "execution_count": 11,
   "metadata": {},
   "outputs": [],
   "source": [
    "from sklearn.metrics import roc_curve, auc"
   ]
  },
  {
   "cell_type": "code",
   "execution_count": 12,
   "metadata": {},
   "outputs": [],
   "source": [
    "fpr, tpr, thres = roc_curve(y_test, y_score)\n",
    "roc_auc = auc(fpr, tpr)"
   ]
  },
  {
   "cell_type": "code",
   "execution_count": 13,
   "metadata": {},
   "outputs": [
    {
     "data": {
      "image/png": "[encoded data removed]",
      "text/plain": [
       "<Figure size 720x360 with 1 Axes>"
      ]
     },
     "metadata": {
      "needs_background": "light"
     },
     "output_type": "display_data"
    }
   ],
   "source": [
    "plt.figure(figsize=(10, 5))\n",
    "plt.plot(fpr, tpr, color='darkorange',\n",
    "         lw=2, label='ROC curve (area = %0.2f)' % roc_auc)\n",
    "plt.plot([0, 1], [0, 1], color='navy', lw=2, linestyle='--')\n",
    "plt.xlim([0.0, 1.0])\n",
    "plt.ylim([0.0, 1.05])\n",
    "plt.xlabel('False Positive Rate')\n",
    "plt.ylabel('True Positive Rate')\n",
    "plt.title(f\"Receiver operating characteristic for {entity['title']}\")\n",
    "plt.legend(loc=\"lower right\")\n",
    "plt.show()"
   ]
  },
  {
   "cell_type": "code",
   "execution_count": null,
   "metadata": {
    "collapsed": true
   },
   "outputs": [],
   "source": []
  }
 ],
 "metadata": {
  "kernelspec": {
   "display_name": "Python 3",
   "language": "python",
   "name": "python3"
  },
  "language_info": {
   "codemirror_mode": {
    "name": "ipython",
    "version": 3
   },
   "file_extension": ".py",
   "mimetype": "text/x-python",
   "name": "python",
   "nbconvert_exporter": "python",
   "pygments_lexer": "ipython3",
   "version": "3.7.3"
  }
 },
 "nbformat": 4,
 "nbformat_minor": 2
}
